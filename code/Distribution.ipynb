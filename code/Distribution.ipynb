{
 "cells": [
  {
   "cell_type": "code",
   "execution_count": 1,
   "id": "8340be22-b240-487b-aa8c-d3cf425b1f4d",
   "metadata": {},
   "outputs": [],
   "source": [
    "import glob\n",
    "from tqdm.notebook import tqdm\n",
    "import matplotlib.pyplot as plt\n",
    "import numpy as np\n",
    "import pickle\n",
    "import pandas as pd\n",
    "from scipy.stats import variation, kurtosis, skew\n",
    "from sklearn.preprocessing import normalize\n",
    "import math"
   ]
  },
  {
   "cell_type": "code",
   "execution_count": 2,
   "id": "80af2c63-7927-400e-8ebe-bf0f47072697",
   "metadata": {},
   "outputs": [],
   "source": [
    "distancesDir = 'decade_distances_complete/*.pickle'\n",
    "distances_raw = []\n",
    "for name in glob.glob(distancesDir):\n",
    "    year = int(name[26:30])\n",
    "    with open(name, 'rb') as f:\n",
    "        distances_raw.append((year, pickle.load(f)))\n",
    "        f.close()\n",
    "\n",
    "distances = [(yr, df) for yr, df in distances_raw if yr >= 1880 and yr <= 1945]\n",
    "distances.sort(key=lambda i: i[0])"
   ]
  },
  {
   "cell_type": "code",
   "execution_count": 3,
   "id": "60e20538-ab8a-4b84-836b-5c6d9a5bd487",
   "metadata": {},
   "outputs": [],
   "source": [
    "distancesDir = 'decade_distances_complete/*.pickle'\n",
    "distances_raw = []\n",
    "for name in glob.glob(distancesDir):\n",
    "    year = int(name[26:30])\n",
    "    with open(name, 'rb') as f:\n",
    "        distances_raw.append((year, pickle.load(f)))\n",
    "        f.close()\n",
    "\n",
    "distances = [(yr, df) for yr, df in distances_raw if yr >= 1880 and yr <= 1945]\n",
    "distances.sort(key=lambda i: i[0])"
   ]
  },
  {
   "cell_type": "code",
   "execution_count": 5,
   "id": "a9a9f49b-099f-443f-baaf-aece6839e601",
   "metadata": {},
   "outputs": [],
   "source": [
    "dfDict = {'year': [],\n",
    "         'skew_JSD': [],\n",
    "         'kurtosis_JSD': [],\n",
    "         'skew_APD': [],\n",
    "         'kurtosis_APD': [],\n",
    "         'skew_JSDist': [],\n",
    "         'kurtosis_JSDist': [],\n",
    "         'skew_PRT': [],\n",
    "         'kurtosis_PRT': [],\n",
    "         'skew_DIV': [],\n",
    "         'kurtosis_DIV': []}\n",
    "\n",
    "for yr, df in distances:\n",
    "    apd = df['apd'].to_numpy()\n",
    "    jsd = df['jsd'].to_numpy()\n",
    "    prt = df['prt'].to_numpy()\n",
    "    div = df['div'].to_numpy()\n",
    "    jsdist = np.array([math.sqrt(i) for i in jsd])\n",
    "    \n",
    "    # add yr to pdDict\n",
    "    dfDict['year'].append(yr)\n",
    "    \n",
    "    for name, method in [('JSD', jsd), ('JSDist', jsdist), ('PRT', prt), ('DIV', div), ('APD', apd)]:\n",
    "        dfDict['skew_' + name].append(np.round(skew(method, nan_policy='omit'), 3))\n",
    "        dfDict['kurtosis_' + name].append(np.round(kurtosis(method, nan_policy='omit'), 3))\n",
    "    \n",
    "df = pd.DataFrame(dfDict)"
   ]
  },
  {
   "cell_type": "code",
   "execution_count": 6,
   "id": "cf179821-3784-49d2-9afb-749d94a76a31",
   "metadata": {},
   "outputs": [
    {
     "name": "stdout",
     "output_type": "stream",
     "text": [
      "    year  skew_JSD  kurtosis_JSD  skew_APD  kurtosis_APD  skew_JSDist  \\\n",
      "0   1880     1.293         1.984     0.344         1.239        0.519   \n",
      "1   1885     1.339         2.456     0.243         0.728        0.484   \n",
      "2   1890     1.549         3.149     0.122         1.018        0.725   \n",
      "3   1895     1.691         3.858    -0.288         2.664        0.797   \n",
      "4   1900     1.751         4.011    -0.068         1.882        0.879   \n",
      "5   1905     1.749         4.092    -0.016         1.381        0.830   \n",
      "6   1910     1.568         3.472     0.023         1.609        0.675   \n",
      "7   1915     1.379         2.469     0.093         2.192        0.577   \n",
      "8   1920     1.559         3.090     0.016         1.070        0.802   \n",
      "9   1925     1.657         3.559     0.032         1.237        0.807   \n",
      "10  1930     1.330         2.419     0.006         1.820        0.496   \n",
      "11  1935     1.049         1.506    -0.012         1.421        0.334   \n",
      "12  1940     0.943         0.746     0.271         0.657        0.273   \n",
      "\n",
      "    kurtosis_JSDist  skew_PRT  kurtosis_PRT  skew_DIV  kurtosis_DIV  \n",
      "0             0.383     2.349         9.449     1.814         4.104  \n",
      "1             0.613     1.988         6.224     1.638         3.374  \n",
      "2             0.690     2.381         9.596     2.098         6.628  \n",
      "3             0.967     2.826        13.583     1.826         4.211  \n",
      "4             1.093     2.223         7.189     2.047         5.634  \n",
      "5             1.108     2.435         9.875     2.235         7.478  \n",
      "6             0.861     2.355         9.092     1.699         3.348  \n",
      "7             0.587     3.479        26.729     1.819         4.508  \n",
      "8             0.717     3.029        19.182     1.919         4.629  \n",
      "9             0.881     2.913        18.444     1.940         5.006  \n",
      "10            0.611     3.988        48.681     1.655         3.551  \n",
      "11            0.230     2.277         9.153     1.474         2.543  \n",
      "12           -0.080     2.845        14.615     1.474         2.842  \n"
     ]
    }
   ],
   "source": [
    "print(df)"
   ]
  },
  {
   "cell_type": "code",
   "execution_count": null,
   "id": "15cc445c-e756-4552-a1e3-2afc6f17e85b",
   "metadata": {},
   "outputs": [],
   "source": []
  }
 ],
 "metadata": {
  "kernelspec": {
   "display_name": "Python 3 (ipykernel)",
   "language": "python",
   "name": "python3"
  },
  "language_info": {
   "codemirror_mode": {
    "name": "ipython",
    "version": 3
   },
   "file_extension": ".py",
   "mimetype": "text/x-python",
   "name": "python",
   "nbconvert_exporter": "python",
   "pygments_lexer": "ipython3",
   "version": "3.8.5"
  }
 },
 "nbformat": 4,
 "nbformat_minor": 5
}
