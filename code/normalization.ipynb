{
 "cells": [
  {
   "cell_type": "code",
   "execution_count": 2,
   "id": "f8e52b02-a2ee-481a-af84-501a300103c4",
   "metadata": {},
   "outputs": [],
   "source": [
    "import glob\n",
    "from tqdm.notebook import tqdm\n",
    "import matplotlib.pyplot as plt\n",
    "import numpy as np\n",
    "import pickle\n",
    "import pandas as pd\n",
    "from scipy.stats import variation, kurtosis, skew"
   ]
  },
  {
   "cell_type": "code",
   "execution_count": 11,
   "id": "85461ee2-9619-42ba-8c38-38b4c7484be2",
   "metadata": {},
   "outputs": [],
   "source": [
    "fDir = 'ddists_complete_with_norms/*.pickle'\n",
    "distances = dict()\n",
    "for name in glob.glob(fDir):\n",
    "    yr = name[37:41]\n",
    "    with open(name, 'rb') as f:\n",
    "        distances[int(yr)] = pickle.load(f)"
   ]
  },
  {
   "cell_type": "code",
   "execution_count": 34,
   "id": "0998a69e-4a01-42be-b576-04e3585eb852",
   "metadata": {},
   "outputs": [
    {
     "data": {
      "text/html": [
       "<div>\n",
       "<style scoped>\n",
       "    .dataframe tbody tr th:only-of-type {\n",
       "        vertical-align: middle;\n",
       "    }\n",
       "\n",
       "    .dataframe tbody tr th {\n",
       "        vertical-align: top;\n",
       "    }\n",
       "\n",
       "    .dataframe thead th {\n",
       "        text-align: right;\n",
       "    }\n",
       "</style>\n",
       "<table border=\"1\" class=\"dataframe\">\n",
       "  <thead>\n",
       "    <tr style=\"text-align: right;\">\n",
       "      <th></th>\n",
       "      <th>token</th>\n",
       "      <th>prt</th>\n",
       "      <th>div</th>\n",
       "      <th>jsd</th>\n",
       "      <th>apd</th>\n",
       "      <th>normed_prt</th>\n",
       "      <th>normed_div</th>\n",
       "      <th>normed_apd</th>\n",
       "    </tr>\n",
       "  </thead>\n",
       "  <tbody>\n",
       "    <tr>\n",
       "      <th>0</th>\n",
       "      <td>פושע</td>\n",
       "      <td>1.035807</td>\n",
       "      <td>0.033526</td>\n",
       "      <td>0.174280</td>\n",
       "      <td>0.343580</td>\n",
       "      <td>1.076989</td>\n",
       "      <td>0.002521</td>\n",
       "      <td>0.999831</td>\n",
       "    </tr>\n",
       "    <tr>\n",
       "      <th>1</th>\n",
       "      <td>מתון</td>\n",
       "      <td>1.042434</td>\n",
       "      <td>0.049617</td>\n",
       "      <td>0.073525</td>\n",
       "      <td>0.348463</td>\n",
       "      <td>0.975442</td>\n",
       "      <td>0.000879</td>\n",
       "      <td>0.999556</td>\n",
       "    </tr>\n",
       "    <tr>\n",
       "      <th>2</th>\n",
       "      <td>פילוסופיה</td>\n",
       "      <td>1.013880</td>\n",
       "      <td>0.024207</td>\n",
       "      <td>0.095037</td>\n",
       "      <td>0.343985</td>\n",
       "      <td>0.988803</td>\n",
       "      <td>0.001403</td>\n",
       "      <td>0.999564</td>\n",
       "    </tr>\n",
       "    <tr>\n",
       "      <th>3</th>\n",
       "      <td>מומר</td>\n",
       "      <td>1.025586</td>\n",
       "      <td>0.031867</td>\n",
       "      <td>0.165159</td>\n",
       "      <td>0.369501</td>\n",
       "      <td>0.895340</td>\n",
       "      <td>0.000515</td>\n",
       "      <td>0.999535</td>\n",
       "    </tr>\n",
       "    <tr>\n",
       "      <th>4</th>\n",
       "      <td>רכש</td>\n",
       "      <td>1.010220</td>\n",
       "      <td>0.004416</td>\n",
       "      <td>0.091266</td>\n",
       "      <td>0.413802</td>\n",
       "      <td>0.926217</td>\n",
       "      <td>0.000499</td>\n",
       "      <td>0.999406</td>\n",
       "    </tr>\n",
       "  </tbody>\n",
       "</table>\n",
       "</div>"
      ],
      "text/plain": [
       "       token       prt       div       jsd       apd  normed_prt  normed_div  \\\n",
       "0       פושע  1.035807  0.033526  0.174280  0.343580    1.076989    0.002521   \n",
       "1       מתון  1.042434  0.049617  0.073525  0.348463    0.975442    0.000879   \n",
       "2  פילוסופיה  1.013880  0.024207  0.095037  0.343985    0.988803    0.001403   \n",
       "3       מומר  1.025586  0.031867  0.165159  0.369501    0.895340    0.000515   \n",
       "4        רכש  1.010220  0.004416  0.091266  0.413802    0.926217    0.000499   \n",
       "\n",
       "   normed_apd  \n",
       "0    0.999831  \n",
       "1    0.999556  \n",
       "2    0.999564  \n",
       "3    0.999535  \n",
       "4    0.999406  "
      ]
     },
     "execution_count": 34,
     "metadata": {},
     "output_type": "execute_result"
    }
   ],
   "source": [
    "def graphCatDist(df, cat, title=None, saveFile=None):\n",
    "    plt.hist(df[cat], bins=50, facecolor='grey', edgecolor='black')\n",
    "    plt.show()\n",
    "testDF = distances[1920]\n",
    "testDF.head()"
   ]
  },
  {
   "cell_type": "code",
   "execution_count": 35,
   "id": "4d12b294-7f0d-4869-82d2-2fa726728475",
   "metadata": {},
   "outputs": [
    {
     "data": {
      "image/png": "[encoded data removed]",
      "text/plain": [
       "<Figure size 432x288 with 1 Axes>"
      ]
     },
     "metadata": {
      "needs_background": "light"
     },
     "output_type": "display_data"
    },
    {
     "data": {
      "image/png": "[encoded data removed]",
      "text/plain": [
       "<Figure size 432x288 with 1 Axes>"
      ]
     },
     "metadata": {
      "needs_background": "light"
     },
     "output_type": "display_data"
    }
   ],
   "source": [
    "# PRT without normalization does not have a normal distribution\n",
    "graphCatDist(testDF, 'prt')\n",
    "# PRT with normalization does have a skew normal distribution\n",
    "graphCatDist(testDF, 'normed_prt')"
   ]
  },
  {
   "cell_type": "code",
   "execution_count": 39,
   "id": "2fd5dd8f-2315-4b53-9f57-dfce14d8f52d",
   "metadata": {},
   "outputs": [
    {
     "data": {
      "image/png": "[encoded data removed]",
      "text/plain": [
       "<Figure size 432x288 with 1 Axes>"
      ]
     },
     "metadata": {
      "needs_background": "light"
     },
     "output_type": "display_data"
    },
    {
     "data": {
      "image/png": "[encoded data removed]",
      "text/plain": [
       "<Figure size 432x288 with 1 Axes>"
      ]
     },
     "metadata": {
      "needs_background": "light"
     },
     "output_type": "display_data"
    }
   ],
   "source": [
    "# DIV without normalization does not have a normal distribution\n",
    "graphCatDist(testDF, 'div')\n",
    "# Unlike PRT, DIV with normalization also does not have a normal distribution\n",
    "graphCatDist(testDF, 'normed_div')"
   ]
  },
  {
   "cell_type": "code",
   "execution_count": 43,
   "id": "b482ac47-905a-4d95-b80c-2f5a91914a95",
   "metadata": {},
   "outputs": [
    {
     "data": {
      "image/png": "[encoded data removed]",
      "text/plain": [
       "<Figure size 432x288 with 1 Axes>"
      ]
     },
     "metadata": {
      "needs_background": "light"
     },
     "output_type": "display_data"
    },
    {
     "data": {
      "image/png": "[encoded data removed]",
      "text/plain": [
       "<Figure size 432x288 with 1 Axes>"
      ]
     },
     "metadata": {
      "needs_background": "light"
     },
     "output_type": "display_data"
    }
   ],
   "source": [
    "# In the case of APD, both have a skew normal, but kurtosis is more prominent on normed APD.\n",
    "graphCatDist(testDF, 'apd')\n",
    "graphCatDist(testDF, 'normed_apd')"
   ]
  },
  {
   "cell_type": "code",
   "execution_count": null,
   "id": "2ff9cc15-b95e-4a53-ac2c-525d41766e70",
   "metadata": {},
   "outputs": [],
   "source": []
  }
 ],
 "metadata": {
  "kernelspec": {
   "display_name": "Python 3 (ipykernel)",
   "language": "python",
   "name": "python3"
  },
  "language_info": {
   "codemirror_mode": {
    "name": "ipython",
    "version": 3
   },
   "file_extension": ".py",
   "mimetype": "text/x-python",
   "name": "python",
   "nbconvert_exporter": "python",
   "pygments_lexer": "ipython3",
   "version": "3.8.5"
  }
 },
 "nbformat": 4,
 "nbformat_minor": 5
}
