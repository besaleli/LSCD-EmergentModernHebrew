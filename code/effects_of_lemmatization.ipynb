{
 "cells": [
  {
   "cell_type": "code",
   "execution_count": 1,
   "id": "611287f4-aa38-43e7-ad82-381640083f1c",
   "metadata": {},
   "outputs": [],
   "source": [
    "from dcwetk.cwe_distance import *\n",
    "import pickle\n",
    "import matplotlib.pyplot as plt\n",
    "import numpy as np\n",
    "import glob\n",
    "from tqdm.notebook import tqdm\n",
    "from nltk.probability import FreqDist"
   ]
  },
  {
   "cell_type": "code",
   "execution_count": 2,
   "id": "01eb5b93-8b69-4b3b-81bd-9f5790487645",
   "metadata": {},
   "outputs": [],
   "source": [
    "testWord = 'ערבי'\n",
    "forms = []"
   ]
  },
  {
   "cell_type": "code",
   "execution_count": 3,
   "id": "44c5ac75-5bfd-437e-82f7-af52916950a9",
   "metadata": {},
   "outputs": [
    {
     "data": {
      "application/vnd.jupyter.widget-view+json": {
       "model_id": "cff23521f4584a4282443898f6fce53c",
       "version_major": 2,
       "version_minor": 0
      },
      "text/plain": [
       "  0%|          | 0/112 [00:00<?, ?it/s]"
      ]
     },
     "metadata": {},
     "output_type": "display_data"
    }
   ],
   "source": [
    "for name in tqdm(glob.glob('byp_docs_with_relational_embeddings/*.pickle')):\n",
    "    with open(name, 'rb') as f:\n",
    "        wums = pickle.load(f)\n",
    "        f.close()\n",
    "    \n",
    "    for doc in wums:\n",
    "        for sent in doc:\n",
    "            for tok in sent:\n",
    "                for lem in tok:\n",
    "                    if lem.lemma == testWord:\n",
    "                        forms.append(lem.form)"
   ]
  },
  {
   "cell_type": "code",
   "execution_count": 4,
   "id": "0c69801a-f465-49ef-a773-57f797414fb0",
   "metadata": {},
   "outputs": [
    {
     "name": "stdout",
     "output_type": "stream",
     "text": [
      "{'ערבי', 'ערביה', 'ערבית', 'ערביות', 'ערביי', 'ערביים', 'ערבים'}\n"
     ]
    }
   ],
   "source": [
    "print(set(forms))"
   ]
  },
  {
   "cell_type": "code",
   "execution_count": 11,
   "id": "8bdcae11-ea7d-4c92-a332-aa74d12fae9a",
   "metadata": {},
   "outputs": [
    {
     "data": {
      "application/vnd.jupyter.widget-view+json": {
       "model_id": "fcfedc1129054fa0adab40d40108ee9d",
       "version_major": 2,
       "version_minor": 0
      },
      "text/plain": [
       "  0%|          | 0/112 [00:00<?, ?it/s]"
      ]
     },
     "metadata": {},
     "output_type": "display_data"
    }
   ],
   "source": [
    "# get vocabulary by year\n",
    "vocab = {}\n",
    "for name in tqdm(glob.glob('byp_docs_with_relational_embeddings/*.pickle')):\n",
    "    yr = int(name[40:44])\n",
    "    yr_vocab = set()\n",
    "    with open(name, 'rb') as f:\n",
    "        wums = pickle.load(f)\n",
    "        f.close()\n",
    "    \n",
    "    for doc in wums:\n",
    "        for sent in doc:\n",
    "            for tok in sent:\n",
    "                for lem in tok:\n",
    "                    yr_vocab.add(lem.lemma)\n",
    "                    \n",
    "    vocab[yr] = yr_vocab"
   ]
  },
  {
   "cell_type": "code",
   "execution_count": 13,
   "id": "edd93e7f-c567-4cdc-809f-8bcb6c4c2653",
   "metadata": {},
   "outputs": [
    {
     "name": "stdout",
     "output_type": "stream",
     "text": [
      "[1723, 1724, 1725, 1727, 1728, 1740, 1743, 1822, 1824, 1828, 1837, 1839, 1842, 1846, 1847, 1848, 1850, 1851, 1852, 1853, 1855, 1856, 1857, 1858, 1859, 1861, 1862, 1863, 1864, 1866, 1867, 1868, 1869, 1871, 1873, 1874, 1875, 1876, 1877, 1878, 1948, 1949, 1978]\n"
     ]
    }
   ],
   "source": [
    "years_with_leumi = [yr for yr, v in vocab.items() if 'לאומי' not in v]\n",
    "print(years_with_leumi)"
   ]
  },
  {
   "cell_type": "code",
   "execution_count": null,
   "id": "ec764753-900b-43a6-8b27-bbceeb49c997",
   "metadata": {},
   "outputs": [],
   "source": []
  }
 ],
 "metadata": {
  "kernelspec": {
   "display_name": "Python 3",
   "language": "python",
   "name": "python3"
  },
  "language_info": {
   "codemirror_mode": {
    "name": "ipython",
    "version": 3
   },
   "file_extension": ".py",
   "mimetype": "text/x-python",
   "name": "python",
   "nbconvert_exporter": "python",
   "pygments_lexer": "ipython3",
   "version": "3.8.8"
  }
 },
 "nbformat": 4,
 "nbformat_minor": 5
}
