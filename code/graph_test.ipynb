{
 "cells": [
  {
   "cell_type": "code",
   "execution_count": 161,
   "id": "3a56ad5e-3023-4a94-b3e6-a6ec2649540b",
   "metadata": {},
   "outputs": [],
   "source": [
    "import matplotlib.pyplot as plt\n",
    "from sklearn.cluster import AffinityPropagation, KMeans\n",
    "from sklearn.decomposition import PCA\n",
    "import numpy as np\n",
    "from sklearn.datasets import make_blobs"
   ]
  },
  {
   "cell_type": "code",
   "execution_count": 166,
   "id": "8294f3cd-4d03-4a27-acea-03c368cb1b6f",
   "metadata": {},
   "outputs": [],
   "source": [
    "n_epochs = 10\n",
    "years = list(range(n_epochs))\n",
    "testWUMs = np.random.rand(10, 100, 768)"
   ]
  },
  {
   "cell_type": "code",
   "execution_count": 211,
   "id": "cdbf74ce-2065-4a15-bef8-208d4a1c4407",
   "metadata": {},
   "outputs": [],
   "source": [
    "def make_IDs(t):\n",
    "    indices = []\n",
    "    for j in ([i] * len(t[i]) for i in range(len(t))):\n",
    "        indices += j\n",
    "        \n",
    "    return indices\n",
    "\n",
    "def get_labs_by_wum(indices, raw_labs):\n",
    "    N = list(zip(indices, raw_labs))\n",
    "    labs_by_wum = [[] for i in range(len(set(indices)))]\n",
    "    for index, lab in N:\n",
    "        labs_by_wum[index].append(lab)\n",
    "        \n",
    "    return labs_by_wum\n",
    "\n",
    "def get_matrices_by_lab(embeddings, labs):\n",
    "    df = list(zip(embeddings, labs))\n",
    "    labs_set = list(set(labs))\n",
    "    matrices = []\n",
    "    for lab in labs_set:\n",
    "        matrices.append([e for e, l in zip(embeddings, labs) if l == lab])\n",
    "        \n",
    "    return labs_set, matrices\n",
    "\n",
    "def prototype(matrix):\n",
    "    return sum(matrix) / len(matrix)\n",
    "\n",
    "def reduce_granularity(embeddings, labs, n_clusters=10):\n",
    "    ap_labs_set, matrices = get_matrices_by_lab(embeddings, labs)\n",
    "    matrix_prototypes = [prototype(m) for m in matrices]\n",
    "    print(len(matrix_prototypes))\n",
    "    kmeans_labs = KMeans(n_clusters=n_clusters).fit_predict(matrix_prototypes)\n",
    "    change_rules = {ap_labs_set[i]: kmeans_labs[i] for i in range(len(ap_labs_set))}\n",
    "    \n",
    "    return change_rules\n",
    "\n",
    "class df:\n",
    "    def __init__(self, u):\n",
    "        if type(u) == dict:\n",
    "            self.u_IDs = u['u_IDs']\n",
    "            self.embeddings = u['embeddings']\n",
    "            self.kmeans_labs = u['kmeans_labs']\n",
    "        else:\n",
    "            self.u_IDs = make_IDs(u)\n",
    "            self.embeddings = np.concatenate(u)\n",
    "            self.kmeans_labs = KMeans(n_clusters=5).fit_predict(self.embeddings)\n",
    "            \n",
    "    def partDF(self):\n",
    "        newDFs = []\n",
    "        for i in set(self.u_IDs):\n",
    "            filterCat = lambda cat: [cat[j] for j in range(len(cat)) if self.u_IDs[j] == i]\n",
    "            newDF = {'u_IDs': filterCat(self.u_IDs),\n",
    "                    'embeddings': filterCat(self.embeddings),\n",
    "                    'kmeans_labs': filterCat(self.kmeans_labs)}\n",
    "            newDFs.append(df(newDF))\n",
    "            \n",
    "        return newDFs\n",
    "    \n",
    "    def freqDist(self):\n",
    "        return [(i, self.kmeans_labs.count(i) / len(self.kmeans_labs)) for i in set(self.kmeans_labs)]"
   ]
  },
  {
   "cell_type": "code",
   "execution_count": 212,
   "id": "5e304e37-f3f4-45b2-977b-e40807d9e028",
   "metadata": {},
   "outputs": [],
   "source": [
    "d = df(testWUMs)\n",
    "ds = d.partDF()"
   ]
  },
  {
   "cell_type": "code",
   "execution_count": 213,
   "id": "2823fdb4-c8cb-46df-8cec-448af4f49227",
   "metadata": {},
   "outputs": [
    {
     "name": "stdout",
     "output_type": "stream",
     "text": [
      "[[(0, 0.27), (1, 0.24), (2, 0.23), (3, 0.11), (4, 0.15)], [(0, 0.3), (1, 0.2), (2, 0.21), (3, 0.15), (4, 0.14)], [(0, 0.3), (1, 0.25), (2, 0.25), (3, 0.12), (4, 0.08)], [(0, 0.25), (1, 0.25), (2, 0.2), (3, 0.11), (4, 0.19)], [(0, 0.38), (1, 0.2), (2, 0.21), (3, 0.11), (4, 0.1)], [(0, 0.25), (1, 0.32), (2, 0.15), (3, 0.1), (4, 0.18)], [(0, 0.34), (1, 0.19), (2, 0.17), (3, 0.14), (4, 0.16)], [(0, 0.28), (1, 0.27), (2, 0.16), (3, 0.1), (4, 0.19)], [(0, 0.29), (1, 0.2), (2, 0.2), (3, 0.16), (4, 0.15)], [(0, 0.32), (1, 0.21), (2, 0.21), (3, 0.09), (4, 0.17)]]\n"
     ]
    }
   ],
   "source": [
    "dists = [s.freqDist() for s in ds]\n",
    "print(dists)  "
   ]
  },
  {
   "cell_type": "code",
   "execution_count": 214,
   "id": "a17e3ce0-7ede-4625-a684-4cdaae9044ae",
   "metadata": {},
   "outputs": [],
   "source": [
    "testLabs, testDists = zip(*dists[0])\n",
    "\n"
   ]
  },
  {
   "cell_type": "code",
   "execution_count": null,
   "id": "f1e1b149-6288-4c1c-a95b-9702f7d06b29",
   "metadata": {},
   "outputs": [],
   "source": []
  }
 ],
 "metadata": {
  "kernelspec": {
   "display_name": "Python 3 (ipykernel)",
   "language": "python",
   "name": "python3"
  },
  "language_info": {
   "codemirror_mode": {
    "name": "ipython",
    "version": 3
   },
   "file_extension": ".py",
   "mimetype": "text/x-python",
   "name": "python",
   "nbconvert_exporter": "python",
   "pygments_lexer": "ipython3",
   "version": "3.8.5"
  }
 },
 "nbformat": 4,
 "nbformat_minor": 5
}
