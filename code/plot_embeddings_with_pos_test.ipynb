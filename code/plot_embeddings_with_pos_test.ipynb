{
 "cells": [
  {
   "cell_type": "code",
   "execution_count": 1,
   "id": "de84244c-fa6a-48ea-8cd6-862086ef124c",
   "metadata": {},
   "outputs": [],
   "source": [
    "from dcwetk.cwe_distance import *\n",
    "import matplotlib.pyplot as plt\n",
    "from sklearn.decomposition import PCA\n",
    "from frequency_grapher import *\n",
    "import glob\n",
    "from tqdm.notebook import tqdm\n",
    "import pickle\n",
    "import pandas as pd\n",
    "from sklearn.cluster import AffinityPropagation"
   ]
  },
  {
   "cell_type": "code",
   "execution_count": 2,
   "id": "ca00ddaa-1c63-4064-9e73-c0fba3ce48de",
   "metadata": {},
   "outputs": [],
   "source": [
    "testTok = 'שונה'"
   ]
  },
  {
   "cell_type": "code",
   "execution_count": 3,
   "id": "030dbc1b-d221-470b-b14d-a239c120bb7f",
   "metadata": {},
   "outputs": [
    {
     "data": {
      "application/vnd.jupyter.widget-view+json": {
       "model_id": "efc1da18deed49e189561ea7c13158e5",
       "version_major": 2,
       "version_minor": 0
      },
      "text/plain": [
       "  0%|          | 0/112 [00:00<?, ?it/s]"
      ]
     },
     "metadata": {},
     "output_type": "display_data"
    }
   ],
   "source": [
    "embeddings = []\n",
    "sents = []\n",
    "pos = []\n",
    "yrs = []\n",
    "\n",
    "for name in tqdm(glob.glob('byp_docs_with_relational_embeddings/*.pickle')):\n",
    "    yr = int(name[-11:-7])\n",
    "    \n",
    "    if 1880 <= yr <= 1950:\n",
    "        with open(name, 'rb') as f:\n",
    "            docs = pickle.load(f)\n",
    "            f.close()\n",
    "            \n",
    "        for doc in docs:\n",
    "            for sent in doc:\n",
    "                for tok in sent:\n",
    "                    for lem in tok:\n",
    "                        if lem.lemma == testTok:\n",
    "                            yrs.append(yr)\n",
    "                            sents.append(str(sent))\n",
    "                            pos.append(lem.pos_tag)\n",
    "                            embeddings.append(lem.embedding)\n",
    "                            \n",
    "        del docs"
   ]
  },
  {
   "cell_type": "code",
   "execution_count": 15,
   "id": "9d832129-c6a0-4540-94d4-15706b657e93",
   "metadata": {},
   "outputs": [],
   "source": [
    "yrRange = [i for i in range(1880, 1950, 5)]\n",
    "x, y = zip(*PCA(n_components=2).fit_transform(embeddings))\n",
    "df = pd.DataFrame({'year': yrs, 'sents': sents, 'pos': pos, 'x': x, 'y': y})\n",
    "labs = {'JJ': 0,\n",
    "       'JJT': 1,\n",
    "       'VB': 2,\n",
    "       'BN': 3,\n",
    "       'BNT': 4}\n",
    "df['pos_labs'] = df['pos'].map(labs)"
   ]
  },
  {
   "cell_type": "code",
   "execution_count": null,
   "id": "53323288-4747-462b-bfbb-47ca8209629e",
   "metadata": {},
   "outputs": [],
   "source": [
    "clusters = AffinityPropagation(random_state=10).fit_predict(embeddings)"
   ]
  },
  {
   "cell_type": "code",
   "execution_count": null,
   "id": "59a6fb3f-5d85-48f2-85a0-bccf88db1e53",
   "metadata": {},
   "outputs": [],
   "source": [
    "df['clusters'] = clusters"
   ]
  },
  {
   "cell_type": "code",
   "execution_count": null,
   "id": "db61dfe1-dc72-4609-862b-70f5e32b92ea",
   "metadata": {
    "scrolled": true,
    "tags": []
   },
   "outputs": [],
   "source": [
    "!mkdir embeddings_by_pos\n",
    "labs = {'JJ': 0,\n",
    "       'JJT': 1,\n",
    "       'VB': 2,\n",
    "       'BN': 3,\n",
    "       'BNT': 4}\n",
    "for yr in yrRange:\n",
    "    prevYear = yr\n",
    "    currYear = yr + 5\n",
    "    tempDF = df[(df.year>=prevYear) & (df.year<currYear) & (df.pos_labs==3) | (df.pos_labs==2)]\n",
    "    print(yr)\n",
    "    fig, ax = plt.subplots()\n",
    "    cmap = plt.cm.viridis\n",
    "    norm = plt.Normalize(df['pos_labs'].values.min(), df['pos_labs'].values.max())\n",
    "    \n",
    "    for pos_cat in tempDF['pos'].unique():\n",
    "        dff = tempDF[tempDF['pos'] == pos_cat]\n",
    "        ax.scatter(dff.x, dff.y, c=cmap(norm(dff['pos_labs'])), label=pos_cat)\n",
    "    # plt.scatter(tempDF.x, tempDF.y, c=tempDF.pos_labs, cmap='viridis')\n",
    "    plt.legend()\n",
    "    plt.savefig('embeddings_by_pos/' + testTok + '_' + str(prevYear) + '.png')\n",
    "    plt.show()"
   ]
  },
  {
   "cell_type": "code",
   "execution_count": null,
   "id": "717ef681-351c-4ffd-a218-89d8368113ec",
   "metadata": {},
   "outputs": [],
   "source": [
    "# determine which clusters cluster the same parts of speech\n",
    "pos_by_clusters_fine = {i: set() for i in df['clusters'].unique()}\n",
    "for cl, pos in zip(df['clusters'].to_list(), df['pos'].to_list()):\n",
    "    pos_by_clusters_fine[cl].add(pos)\n",
    "\n",
    "df['pos_coarse'] = df['pos'].apply(lambda i: 'ADJ' if i in ['JJ', 'JJT'] else 'VB')\n",
    "    \n",
    "pos_by_clusters_coarse = {i: set() for i in df['clusters'].unique()}\n",
    "for cl, pos in zip(df['clusters'].to_list(), df['pos_coarse'].to_list()):\n",
    "    pos_by_clusters_coarse[cl].add(pos)\n",
    "df['isHomogenous_fine'] = df['clusters'].apply(lambda i: True if len(pos_by_clusters_fine[i]) == 1 else False)\n",
    "df['isHomogenous_coarse'] = df['clusters'].apply(lambda i: True if len(pos_by_clusters_coarse[i]) == 1 else False)"
   ]
  },
  {
   "cell_type": "code",
   "execution_count": null,
   "id": "d0290e9f-23fc-4600-91de-cc67d74b48c4",
   "metadata": {},
   "outputs": [],
   "source": [
    "dfTrue_fine = df[df['isHomogenous_fine'] == True]\n",
    "dfTrue_coarse = df[df['isHomogenous_coarse'] == True]\n",
    "print(len(dfTrue_fine)/len(df))\n",
    "print(len(dfTrue_coarse)/len(df))"
   ]
  },
  {
   "cell_type": "code",
   "execution_count": null,
   "id": "d9a51807-79f4-4b5f-a4f5-9d1359399091",
   "metadata": {},
   "outputs": [],
   "source": []
  }
 ],
 "metadata": {
  "kernelspec": {
   "display_name": "Python 3",
   "language": "python",
   "name": "python3"
  },
  "language_info": {
   "codemirror_mode": {
    "name": "ipython",
    "version": 3
   },
   "file_extension": ".py",
   "mimetype": "text/x-python",
   "name": "python",
   "nbconvert_exporter": "python",
   "pygments_lexer": "ipython3",
   "version": "3.8.8"
  }
 },
 "nbformat": 4,
 "nbformat_minor": 5
}
