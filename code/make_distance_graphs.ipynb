{
 "cells": [
  {
   "cell_type": "code",
   "execution_count": null,
   "id": "ad5fee38-bbad-44a6-a3e9-afaed58c31a2",
   "metadata": {},
   "outputs": [],
   "source": [
    "from glob import glob\n",
    "import pandas as pd\n",
    "import pickle\n",
    "import sys\n",
    "from tqdm.notebook import tqdm\n",
    "\n",
    "sys.path.insert(1, 'utils/')\n",
    "from graph_distances import *\n",
    "\n",
    "# !mkdir distance_imgs"
   ]
  },
  {
   "cell_type": "code",
   "execution_count": null,
   "id": "ea7ed892-43de-481b-9364-6ac7c7c78fad",
   "metadata": {},
   "outputs": [],
   "source": [
    "distances = []\n",
    "for name in glob('ddists_complete/*.pickle'):\n",
    "    yr = int(name[-11:-7])\n",
    "    with open(name, 'rb') as f:\n",
    "        df = pickle.load(f)\n",
    "        f.close()\n",
    "    distances.append((yr, df))\n",
    "\n",
    "distances.sort(key=lambda i: i[0])"
   ]
  },
  {
   "cell_type": "code",
   "execution_count": null,
   "id": "bd99b6f8-203f-4a8c-accc-3801d84c90d8",
   "metadata": {},
   "outputs": [],
   "source": [
    "vocab_list = [tok for tok in df['token'] for yr, df in distances]\n",
    "relevant_vocab = set()\n",
    "min_n_epochs = 10\n",
    "for word in tqdm(set(vocab_list)):\n",
    "    if vocab_list.count(word) >= min_n_epochs:\n",
    "        relevant_vocab.add(word)"
   ]
  },
  {
   "cell_type": "code",
   "execution_count": null,
   "id": "76c40ac0-db55-4c30-b3cc-9197815f95c0",
   "metadata": {
    "scrolled": true,
    "tags": []
   },
   "outputs": [],
   "source": [
    "years, dfs = list(zip(*distances))\n",
    "for tok in tqdm(relevant_vocab):\n",
    "    graphDistances(dfs, years, tok, saveFig=True)"
   ]
  },
  {
   "cell_type": "code",
   "execution_count": null,
   "id": "f81fa74a-71a0-43a2-b373-38b81e20db2f",
   "metadata": {},
   "outputs": [],
   "source": []
  }
 ],
 "metadata": {
  "kernelspec": {
   "display_name": "Python 3 (ipykernel)",
   "language": "python",
   "name": "python3"
  },
  "language_info": {
   "codemirror_mode": {
    "name": "ipython",
    "version": 3
   },
   "file_extension": ".py",
   "mimetype": "text/x-python",
   "name": "python",
   "nbconvert_exporter": "python",
   "pygments_lexer": "ipython3",
   "version": "3.8.5"
  }
 },
 "nbformat": 4,
 "nbformat_minor": 5
}
