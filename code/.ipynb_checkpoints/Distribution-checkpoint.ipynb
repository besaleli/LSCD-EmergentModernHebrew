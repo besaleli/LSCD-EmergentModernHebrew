{
 "cells": [
  {
   "cell_type": "code",
   "execution_count": 1,
   "id": "8340be22-b240-487b-aa8c-d3cf425b1f4d",
   "metadata": {},
   "outputs": [],
   "source": [
    "import glob\n",
    "from tqdm.notebook import tqdm\n",
    "import matplotlib.pyplot as plt\n",
    "import numpy as np\n",
    "import pickle\n",
    "import pandas as pd\n",
    "from scipy.stats import variation, kurtosis, skew\n",
    "from sklearn.preprocessing import normalize\n",
    "import math"
   ]
  },
  {
   "cell_type": "code",
   "execution_count": 2,
   "id": "80af2c63-7927-400e-8ebe-bf0f47072697",
   "metadata": {},
   "outputs": [],
   "source": [
    "distancesDir = 'decade_distances_complete/*.pickle'\n",
    "distances_raw = []\n",
    "for name in glob.glob(distancesDir):\n",
    "    year = int(name[26:30])\n",
    "    with open(name, 'rb') as f:\n",
    "        distances_raw.append((year, pickle.load(f)))\n",
    "        f.close()\n",
    "\n",
    "distances = [(yr, df) for yr, df in distances_raw if yr >= 1880 and yr <= 1945]\n",
    "distances.sort(key=lambda i: i[0])"
   ]
  },
  {
   "cell_type": "code",
   "execution_count": 3,
   "id": "60e20538-ab8a-4b84-836b-5c6d9a5bd487",
   "metadata": {},
   "outputs": [],
   "source": [
    "distancesDir = 'decade_distances_complete/*.pickle'\n",
    "distances_raw = []\n",
    "for name in glob.glob(distancesDir):\n",
    "    year = int(name[26:30])\n",
    "    with open(name, 'rb') as f:\n",
    "        distances_raw.append((year, pickle.load(f)))\n",
    "        f.close()\n",
    "\n",
    "distances = [(yr, df) for yr, df in distances_raw if yr >= 1880 and yr <= 1945]\n",
    "distances.sort(key=lambda i: i[0])"
   ]
  },
  {
   "cell_type": "code",
   "execution_count": 4,
   "id": "a9a9f49b-099f-443f-baaf-aece6839e601",
   "metadata": {},
   "outputs": [
    {
     "ename": "TypeError",
     "evalue": "'numpy.ndarray' object is not callable",
     "output_type": "error",
     "traceback": [
      "\u001b[0;31m---------------------------------------------------------------------------\u001b[0m",
      "\u001b[0;31mTypeError\u001b[0m                                 Traceback (most recent call last)",
      "\u001b[0;32m<ipython-input-4-dbb4b7c8673d>\u001b[0m in \u001b[0;36m<module>\u001b[0;34m\u001b[0m\n\u001b[1;32m     23\u001b[0m     \u001b[0;32mfor\u001b[0m \u001b[0mname\u001b[0m\u001b[0;34m,\u001b[0m \u001b[0mmethod\u001b[0m \u001b[0;32min\u001b[0m \u001b[0;34m[\u001b[0m\u001b[0;34m(\u001b[0m\u001b[0;34m'JSD'\u001b[0m\u001b[0;34m,\u001b[0m \u001b[0mjsd\u001b[0m\u001b[0;34m)\u001b[0m\u001b[0;34m,\u001b[0m \u001b[0;34m(\u001b[0m\u001b[0;34m'JSDist'\u001b[0m\u001b[0;34m,\u001b[0m \u001b[0mjsdist\u001b[0m\u001b[0;34m)\u001b[0m\u001b[0;34m,\u001b[0m \u001b[0;34m(\u001b[0m\u001b[0;34m'PRT'\u001b[0m\u001b[0;34m,\u001b[0m \u001b[0mprt\u001b[0m\u001b[0;34m)\u001b[0m\u001b[0;34m,\u001b[0m \u001b[0;34m(\u001b[0m\u001b[0;34m'DIV'\u001b[0m\u001b[0;34m,\u001b[0m \u001b[0mdiv\u001b[0m\u001b[0;34m)\u001b[0m\u001b[0;34m,\u001b[0m \u001b[0;34m(\u001b[0m\u001b[0;34m'APD'\u001b[0m\u001b[0;34m,\u001b[0m \u001b[0mapd\u001b[0m\u001b[0;34m)\u001b[0m\u001b[0;34m]\u001b[0m\u001b[0;34m:\u001b[0m\u001b[0;34m\u001b[0m\u001b[0;34m\u001b[0m\u001b[0m\n\u001b[1;32m     24\u001b[0m         \u001b[0mdfDict\u001b[0m\u001b[0;34m[\u001b[0m\u001b[0;34m'skew_'\u001b[0m \u001b[0;34m+\u001b[0m \u001b[0mname\u001b[0m\u001b[0;34m]\u001b[0m\u001b[0;34m.\u001b[0m\u001b[0mappend\u001b[0m\u001b[0;34m(\u001b[0m\u001b[0mnp\u001b[0m\u001b[0;34m.\u001b[0m\u001b[0mround\u001b[0m\u001b[0;34m(\u001b[0m\u001b[0mskew\u001b[0m\u001b[0;34m(\u001b[0m\u001b[0mmethod\u001b[0m\u001b[0;34m,\u001b[0m \u001b[0mnan_policy\u001b[0m\u001b[0;34m=\u001b[0m\u001b[0;34m'omit'\u001b[0m\u001b[0;34m)\u001b[0m\u001b[0;34m,\u001b[0m \u001b[0;36m3\u001b[0m\u001b[0;34m)\u001b[0m\u001b[0;34m)\u001b[0m\u001b[0;34m\u001b[0m\u001b[0;34m\u001b[0m\u001b[0m\n\u001b[0;32m---> 25\u001b[0;31m         \u001b[0mdfDict\u001b[0m\u001b[0;34m[\u001b[0m\u001b[0;34m'kurtosis_'\u001b[0m \u001b[0;34m+\u001b[0m \u001b[0mname\u001b[0m\u001b[0;34m]\u001b[0m\u001b[0;34m.\u001b[0m\u001b[0mappend\u001b[0m\u001b[0;34m(\u001b[0m\u001b[0mnp\u001b[0m\u001b[0;34m.\u001b[0m\u001b[0mround\u001b[0m\u001b[0;34m(\u001b[0m\u001b[0mmethod\u001b[0m\u001b[0;34m(\u001b[0m\u001b[0mjsd\u001b[0m\u001b[0;34m,\u001b[0m \u001b[0mnan_policy\u001b[0m\u001b[0;34m=\u001b[0m\u001b[0;34m'omit'\u001b[0m\u001b[0;34m)\u001b[0m\u001b[0;34m,\u001b[0m \u001b[0;36m3\u001b[0m\u001b[0;34m)\u001b[0m\u001b[0;34m)\u001b[0m\u001b[0;34m\u001b[0m\u001b[0;34m\u001b[0m\u001b[0m\n\u001b[0m\u001b[1;32m     26\u001b[0m \u001b[0;34m\u001b[0m\u001b[0m\n\u001b[1;32m     27\u001b[0m \u001b[0mdf\u001b[0m \u001b[0;34m=\u001b[0m \u001b[0mpd\u001b[0m\u001b[0;34m.\u001b[0m\u001b[0mDataFrame\u001b[0m\u001b[0;34m(\u001b[0m\u001b[0mdfDict\u001b[0m\u001b[0;34m)\u001b[0m\u001b[0;34m\u001b[0m\u001b[0;34m\u001b[0m\u001b[0m\n",
      "\u001b[0;31mTypeError\u001b[0m: 'numpy.ndarray' object is not callable"
     ]
    }
   ],
   "source": [
    "dfDict = {'year': [],\n",
    "         'skew_JSD': [],\n",
    "         'kurtosis_JSD': [],\n",
    "         'skew_APD': [],\n",
    "         'kurtosis_APD': [],\n",
    "         'skew_JSDist': [],\n",
    "         'kurtosis_JSDist': [],\n",
    "         'skew_PRT': [],\n",
    "         'kurtosis_PRT': [],\n",
    "         'skew_DIV': [],\n",
    "         'kurtosis_DIV': []}\n",
    "\n",
    "for yr, df in distances:\n",
    "    apd = df['apd'].to_numpy()\n",
    "    jsd = df['jsd'].to_numpy()\n",
    "    prt = df['prt'].to_numpy()\n",
    "    div = df['div'].to_numpy()\n",
    "    jsdist = np.array([math.sqrt(i) for i in jsd])\n",
    "    \n",
    "    # add yr to pdDict\n",
    "    dfDict['year'].append(yr)\n",
    "    \n",
    "    for name, method in [('JSD', jsd), ('JSDist', jsdist), ('PRT', prt), ('DIV', div), ('APD', apd)]:\n",
    "        dfDict['skew_' + name].append(np.round(skew(method, nan_policy='omit'), 3))\n",
    "        dfDict['kurtosis_' + name].append(np.round(method(jsd, nan_policy='omit'), 3))\n",
    "    \n",
    "df = pd.DataFrame(dfDict)"
   ]
  },
  {
   "cell_type": "code",
   "execution_count": null,
   "id": "cf179821-3784-49d2-9afb-749d94a76a31",
   "metadata": {},
   "outputs": [],
   "source": [
    "print(df)"
   ]
  },
  {
   "cell_type": "code",
   "execution_count": null,
   "id": "15cc445c-e756-4552-a1e3-2afc6f17e85b",
   "metadata": {},
   "outputs": [],
   "source": []
  }
 ],
 "metadata": {
  "kernelspec": {
   "display_name": "Python 3",
   "language": "python",
   "name": "python3"
  },
  "language_info": {
   "codemirror_mode": {
    "name": "ipython",
    "version": 3
   },
   "file_extension": ".py",
   "mimetype": "text/x-python",
   "name": "python",
   "nbconvert_exporter": "python",
   "pygments_lexer": "ipython3",
   "version": "3.8.8"
  }
 },
 "nbformat": 4,
 "nbformat_minor": 5
}
