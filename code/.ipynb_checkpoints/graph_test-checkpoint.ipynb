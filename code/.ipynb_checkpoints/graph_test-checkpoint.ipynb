{
 "cells": [
  {
   "cell_type": "code",
   "execution_count": 161,
   "id": "3a56ad5e-3023-4a94-b3e6-a6ec2649540b",
   "metadata": {},
   "outputs": [],
   "source": [
    "import matplotlib.pyplot as plt\n",
    "from sklearn.cluster import AffinityPropagation, KMeans\n",
    "from sklearn.decomposition import PCA\n",
    "import numpy as np\n",
    "from sklearn.datasets import make_blobs"
   ]
  },
  {
   "cell_type": "code",
   "execution_count": 166,
   "id": "8294f3cd-4d03-4a27-acea-03c368cb1b6f",
   "metadata": {},
   "outputs": [],
   "source": [
    "n_epochs = 10\n",
    "years = list(range(n_epochs))\n",
    "testWUMs = np.random.rand(10, 100, 768)"
   ]
  },
  {
   "cell_type": "code",
   "execution_count": 192,
   "id": "cdbf74ce-2065-4a15-bef8-208d4a1c4407",
   "metadata": {},
   "outputs": [],
   "source": [
    "def make_IDs(t):\n",
    "    indices = []\n",
    "    for j in ([i] * len(t[i]) for i in range(len(t))):\n",
    "        indices += j\n",
    "        \n",
    "    return indices\n",
    "\n",
    "def get_labs_by_wum(indices, raw_labs):\n",
    "    N = list(zip(indices, raw_labs))\n",
    "    labs_by_wum = [[] for i in range(len(set(indices)))]\n",
    "    for index, lab in N:\n",
    "        labs_by_wum[index].append(lab)\n",
    "        \n",
    "    return labs_by_wum\n",
    "\n",
    "def get_matrices_by_lab(embeddings, labs):\n",
    "    df = list(zip(embeddings, labs))\n",
    "    labs_set = list(set(labs))\n",
    "    matrices = []\n",
    "    for lab in labs_set:\n",
    "        matrices.append([e for e, l in zip(embeddings, labs) if l == lab])\n",
    "        \n",
    "    return labs_set, matrices\n",
    "\n",
    "def prototype(matrix):\n",
    "    return sum(matrix) / len(matrix)\n",
    "\n",
    "def reduce_granularity(embeddings, labs, n_clusters=10):\n",
    "    ap_labs_set, matrices = get_matrices_by_lab(embeddings, labs)\n",
    "    matrix_prototypes = [prototype(m) for m in matrices]\n",
    "    print(len(matrix_prototypes))\n",
    "    kmeans_labs = KMeans(n_clusters=n_clusters).fit_predict(matrix_prototypes)\n",
    "    change_rules = {ap_labs_set[i]: kmeans_labs[i] for i in range(len(ap_labs_set))}\n",
    "    \n",
    "    return change_rules\n",
    "\n",
    "class df:\n",
    "    def __init__(self, u):\n",
    "        if type(u) == dict:\n",
    "            self.u_IDs = u['u_IDs']\n",
    "            self.embeddings = u['embeddings']\n",
    "            self.ap_labs = u['ap_labs']\n",
    "            self.change_rules = u['change_rules']\n",
    "            self.clustered_ap_labs = u['clustered_ap_labs']\n",
    "        else:\n",
    "            self.u_IDs = make_IDs(u)\n",
    "            self.embeddings = np.concatenate(u)\n",
    "            self.ap_labs = AffinityPropagation(random_state=10).fit_predict(self.embeddings)\n",
    "            self.change_rules = reduce_granularity(self.embeddings, self.ap_labs, n_clusters=10)\n",
    "            self.clustered_ap_labs = list(map(lambda i: self.change_rules[i], self.ap_labs))\n",
    "            \n",
    "    def partDF(self):\n",
    "        newDFs = []\n",
    "        for i in set(self.u_IDs):\n",
    "            filterCat = lambda cat: [cat[j] for j in range(len(cat)) if self.u_IDs[j] == i]\n",
    "            newDF = {'u_IDs': filterCat(self.u_IDs),\n",
    "                    'embeddings': filterCat(self.embeddings),\n",
    "                    'ap_labs': filterCat(self.ap_labs),\n",
    "                    'change_rules': filterCat(self.change_rules),\n",
    "                    'clustered_ap_labs': filterCat(self.clustered_ap_labs)}\n",
    "            newDFs.append(df(newDF))\n",
    "            \n",
    "        return newDFs\n",
    "    \n",
    "    def freqDist(self):\n",
    "        return [(i, self.clustered_ap_labs.count(i) / len(self.clustered_ap_labs)) for i in set(self.clustered_ap_labs)]"
   ]
  },
  {
   "cell_type": "code",
   "execution_count": 193,
   "id": "5e304e37-f3f4-45b2-977b-e40807d9e028",
   "metadata": {},
   "outputs": [
    {
     "name": "stdout",
     "output_type": "stream",
     "text": [
      "61\n"
     ]
    }
   ],
   "source": [
    "d = df(testWUMs)\n",
    "ds = d.partDF()"
   ]
  },
  {
   "cell_type": "code",
   "execution_count": 194,
   "id": "2823fdb4-c8cb-46df-8cec-448af4f49227",
   "metadata": {},
   "outputs": [],
   "source": [
    "freqDists, labs = zip(*[s.freqDist() for s in ds])"
   ]
  },
  {
   "cell_type": "code",
   "execution_count": null,
   "id": "a17e3ce0-7ede-4625-a684-4cdaae9044ae",
   "metadata": {},
   "outputs": [],
   "source": []
  }
 ],
 "metadata": {
  "kernelspec": {
   "display_name": "Python 3 (ipykernel)",
   "language": "python",
   "name": "python3"
  },
  "language_info": {
   "codemirror_mode": {
    "name": "ipython",
    "version": 3
   },
   "file_extension": ".py",
   "mimetype": "text/x-python",
   "name": "python",
   "nbconvert_exporter": "python",
   "pygments_lexer": "ipython3",
   "version": "3.8.5"
  }
 },
 "nbformat": 4,
 "nbformat_minor": 5
}
