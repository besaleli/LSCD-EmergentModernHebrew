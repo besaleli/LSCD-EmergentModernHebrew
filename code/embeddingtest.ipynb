{
 "cells": [
  {
   "cell_type": "code",
   "execution_count": 1,
   "id": "eda7039a-d7dc-40b1-ad1e-86e5bb23aadb",
   "metadata": {},
   "outputs": [],
   "source": [
    "from glob import glob\n",
    "import pandas as pd\n",
    "import pickle\n",
    "import sys\n",
    "from tqdm.notebook import tqdm\n",
    "\n",
    "sys.path.insert(1, 'utils/')\n",
    "from graph_distances import *\n",
    "from dcwetk.cwe_distance import *"
   ]
  },
  {
   "cell_type": "code",
   "execution_count": 5,
   "id": "e9b849ca-fa00-4997-8da3-0b3315137edf",
   "metadata": {},
   "outputs": [],
   "source": [
    "testWord = 'ציוני'\n",
    "testWUMs = {}"
   ]
  },
  {
   "cell_type": "code",
   "execution_count": 6,
   "id": "98796c3d-fe4b-4200-b364-179ec31be53f",
   "metadata": {},
   "outputs": [
    {
     "data": {
      "application/vnd.jupyter.widget-view+json": {
       "model_id": "f6a222b87d3c45a8835087d40c4afcc8",
       "version_major": 2,
       "version_minor": 0
      },
      "text/plain": [
       "  0%|          | 0/27 [00:00<?, ?it/s]"
      ]
     },
     "metadata": {},
     "output_type": "display_data"
    }
   ],
   "source": [
    "for name in tqdm(glob('byp_decade_wums/*.pickle')):\n",
    "    yr = int(name[16:20])\n",
    "    with open(name, 'rb') as f:\n",
    "        wums = pickle.load(f)\n",
    "        f.close()\n",
    "        \n",
    "    if testWord in wums.keys():\n",
    "        testWUMs[yr] = wums[testWord]"
   ]
  },
  {
   "cell_type": "code",
   "execution_count": 7,
   "id": "bb1d80fb-b841-4a14-bb4f-42ca99dc25e0",
   "metadata": {},
   "outputs": [
    {
     "name": "stdout",
     "output_type": "stream",
     "text": [
      "12\n"
     ]
    }
   ],
   "source": [
    "print(len(testWUMs))"
   ]
  },
  {
   "cell_type": "code",
   "execution_count": 16,
   "id": "e0b9fefd-fb1d-49be-a33f-08bb80852dc9",
   "metadata": {},
   "outputs": [],
   "source": [
    "from sklearn.decomposition import PCA\n",
    "import itertools\n",
    "import matplotlib.animation as animation\n",
    "\n",
    "def plotWUM(wums_dict, word):\n",
    "    wums_pca = [PCA(n_components=3).fit_transform(j.u) for i, j in wums_dict.items()]\n",
    "    \n",
    "    xs = []\n",
    "    ys = []\n",
    "    zs = []\n",
    "    \n",
    "    for w in wums_pca:\n",
    "        x, y, z = list(zip(*w))\n",
    "        xs.append(x)\n",
    "        ys.append(y)\n",
    "        zs.append(z)\n",
    "        \n",
    "    x_iter = itertools.cycle(xs)\n",
    "    y_iter = itertools.cycle(ys)\n",
    "    z_iter = itertools.cycle(zs)\n",
    "    \n",
    "    yrs = itertools.cycle(list(wums_dict.keys()))\n",
    "    \n",
    "    fig, ax = plt.subplots(figsize=(6,6))\n",
    "    \n",
    "    def update(i):\n",
    "        ax.clear()\n",
    "        ax.set_xlim((-15, 15))\n",
    "        ax.set_ylim((-15, 15))\n",
    "        \n",
    "        ax.scatter(next(x_iter), next(y_iter), c=next(z_iter), cmap='viridis')\n",
    "        ax.set_title(next(yrs))\n",
    "        \n",
    "    ani = animation.FuncAnimation(fig, update, frames=len(wums_dict), interval=1000)\n",
    "    ani.save(word + '.gif', writer='pillow')"
   ]
  },
  {
   "cell_type": "code",
   "execution_count": 17,
   "id": "bcdcdf92-2ad4-4eba-84c2-b194a080b9cf",
   "metadata": {},
   "outputs": [
    {
     "data": {
      "image/png": "[encoded data removed]",
      "text/plain": [
       "<Figure size 432x432 with 1 Axes>"
      ]
     },
     "metadata": {
      "needs_background": "light"
     },
     "output_type": "display_data"
    }
   ],
   "source": [
    "plotWUM(testWUMs, testWord)"
   ]
  },
  {
   "cell_type": "code",
   "execution_count": null,
   "id": "6cdf7d32-4357-4f7d-ac86-de0bbf03cbb1",
   "metadata": {},
   "outputs": [],
   "source": []
  }
 ],
 "metadata": {
  "kernelspec": {
   "display_name": "Python 3",
   "language": "python",
   "name": "python3"
  },
  "language_info": {
   "codemirror_mode": {
    "name": "ipython",
    "version": 3
   },
   "file_extension": ".py",
   "mimetype": "text/x-python",
   "name": "python",
   "nbconvert_exporter": "python",
   "pygments_lexer": "ipython3",
   "version": "3.8.8"
  }
 },
 "nbformat": 4,
 "nbformat_minor": 5
}
