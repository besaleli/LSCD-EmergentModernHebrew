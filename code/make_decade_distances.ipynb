{
 "cells": [
  {
   "cell_type": "code",
   "execution_count": 1,
   "id": "66836ff3-07f4-4ee9-86e6-e4f5ef41adc4",
   "metadata": {},
   "outputs": [],
   "source": [
    "# public package imports\n",
    "import sys\n",
    "import pickle\n",
    "import numpy as np\n",
    "from tqdm.notebook import tqdm\n",
    "from nltk.probability import FreqDist\n",
    "import pandas as pd\n",
    "from matplotlib import pyplot as plt\n",
    "from scipy.stats import spearmanr as spearman\n",
    "import glob\n",
    "from sklearn.mixture import GaussianMixture\n",
    "from sklearn.cluster import AffinityPropagation as AP\n",
    "from scipy.spatial.distance import jensenshannon\n",
    "from sklearn.preprocessing import normalize\n",
    "import random\n",
    "# proprietary imports\n",
    "from dcwetk.cwe_distance import *\n",
    "from dcwetk.cwe_distance.cwe_frame import *\n",
    "import utils.NormedMetrics as nm"
   ]
  },
  {
   "cell_type": "code",
   "execution_count": 2,
   "id": "73387291-4d4a-4256-b27f-93efbd6a1432",
   "metadata": {},
   "outputs": [],
   "source": [
    "class dError(Exception):\n",
    "    pass\n",
    "\n",
    "def makeDistance(prevWUMs, currWUMs):\n",
    "    failed_jsd = 0\n",
    "    prevVocab, currVocab = set(prevWUMs.keys()), set(currWUMs.keys())\n",
    "    \n",
    "    toks_list = set.intersection(prevVocab, currVocab)\n",
    "    \n",
    "    if toks_list:\n",
    "        distData = dict()\n",
    "        distData['token'] = list(toks_list)\n",
    "        for i in ['prt', 'div', 'jsd', 'apd']:\n",
    "            distData[i] = []\n",
    "            \n",
    "        failures = 0\n",
    "        \n",
    "        for tok in tqdm(distData['token']):\n",
    "            prevWUM = prevWUMs[tok]\n",
    "            currWUM = currWUMs[tok]\n",
    "            \n",
    "            # compute PRT\n",
    "            distData['prt'].append(prevWUM.prt(currWUM))\n",
    "            \n",
    "            # compute DIV\n",
    "            distData['div'].append(prevWUM.div(currWUM))\n",
    "            \n",
    "            # compute JSD\n",
    "            jsdval = prevWUM.jsd(currWUM, max_sample_size=1024)\n",
    "            if jsdval > 0 and jsdval <= 1:\n",
    "                distData['jsd'].append(prevWUM.jsd(currWUM, max_sample_size=1024))\n",
    "            else:\n",
    "                failed_jsd += 1\n",
    "                distData['jsd'].append(np.nan)\n",
    "            \n",
    "            # compute APD\n",
    "            distData['apd'].append(prevWUM.apd(currWUM, max_sample_size=128))\n",
    "        \n",
    "        return pd.DataFrame(distData)\n",
    "    \n",
    "    else:\n",
    "        raise dError\n",
    "    \n",
    "    return distances"
   ]
  },
  {
   "cell_type": "code",
   "execution_count": 3,
   "id": "fd8bbc8b-b7d7-402b-a05a-2395a76b6cf6",
   "metadata": {},
   "outputs": [],
   "source": [
    "def loadWUMs(yr):\n",
    "    fileName = 'byp_decade_wums/' + str(yr) + '_' + str(yr + 5) + '_wums.pickle'\n",
    "    with open(fileName, 'rb') as f:\n",
    "        return pickle.load(f)\n",
    "\n",
    "yearRange = list(range(1880, 1950, 5))"
   ]
  },
  {
   "cell_type": "raw",
   "id": "885589aa-b480-451e-9a9b-217929ff947a",
   "metadata": {
    "tags": []
   },
   "source": [
    "for i in tqdm(range(1, len(yearRange))):\n",
    "    prevYear = yearRange[i-1]\n",
    "    currYear = yearRange[i]\n",
    "    \n",
    "    prevWUMs = loadWUMs(prevYear)\n",
    "    currWUMs = loadWUMs(currYear)\n",
    "    \n",
    "    dist = makeDistance(prevWUMs, currWUMs)\n",
    "    \n",
    "    with open('ddists_complete/distances_' + str(prevYear) + '.pickle', 'wb') as f:\n",
    "        pickle.dump(dist, f, protocol=pickle.HIGHEST_PROTOCOL)"
   ]
  },
  {
   "cell_type": "code",
   "execution_count": 5,
   "id": "23596100-1fdf-4119-b2bb-23fde0161446",
   "metadata": {},
   "outputs": [
    {
     "name": "stdout",
     "output_type": "stream",
     "text": [
      "mkdir: cannot create directory ‘ddists_complete_with_norms’: File exists\n"
     ]
    },
    {
     "data": {
      "application/vnd.jupyter.widget-view+json": {
       "model_id": "d5f6699d4a3c4cb6ab17edfc8c4c174d",
       "version_major": 2,
       "version_minor": 0
      },
      "text/plain": [
       "  0%|          | 0/13 [00:00<?, ?it/s]"
      ]
     },
     "metadata": {},
     "output_type": "display_data"
    },
    {
     "data": {
      "application/vnd.jupyter.widget-view+json": {
       "model_id": "7a70b22f23de4339b4528dbd86ea21a4",
       "version_major": 2,
       "version_minor": 0
      },
      "text/plain": [
       "  0%|          | 0/1990 [00:00<?, ?it/s]"
      ]
     },
     "metadata": {},
     "output_type": "display_data"
    },
    {
     "data": {
      "application/vnd.jupyter.widget-view+json": {
       "model_id": "df2c67e662b84c868d4981d4971a5a74",
       "version_major": 2,
       "version_minor": 0
      },
      "text/plain": [
       "  0%|          | 0/2256 [00:00<?, ?it/s]"
      ]
     },
     "metadata": {},
     "output_type": "display_data"
    },
    {
     "data": {
      "application/vnd.jupyter.widget-view+json": {
       "model_id": "9ffe7236b5974c9bb079fbcee9b5f382",
       "version_major": 2,
       "version_minor": 0
      },
      "text/plain": [
       "  0%|          | 0/3627 [00:00<?, ?it/s]"
      ]
     },
     "metadata": {},
     "output_type": "display_data"
    },
    {
     "data": {
      "application/vnd.jupyter.widget-view+json": {
       "model_id": "c57e53bbae6043f4b4976bf932208467",
       "version_major": 2,
       "version_minor": 0
      },
      "text/plain": [
       "  0%|          | 0/4427 [00:00<?, ?it/s]"
      ]
     },
     "metadata": {},
     "output_type": "display_data"
    },
    {
     "data": {
      "application/vnd.jupyter.widget-view+json": {
       "model_id": "766d71e5c4f349a4bc7c375f1fc0e120",
       "version_major": 2,
       "version_minor": 0
      },
      "text/plain": [
       "  0%|          | 0/5440 [00:00<?, ?it/s]"
      ]
     },
     "metadata": {},
     "output_type": "display_data"
    },
    {
     "data": {
      "application/vnd.jupyter.widget-view+json": {
       "model_id": "6b38afb5304544e9a848584ead21ab4d",
       "version_major": 2,
       "version_minor": 0
      },
      "text/plain": [
       "  0%|          | 0/5662 [00:00<?, ?it/s]"
      ]
     },
     "metadata": {},
     "output_type": "display_data"
    },
    {
     "data": {
      "application/vnd.jupyter.widget-view+json": {
       "model_id": "58fa877672b34fbfa5da4084e25b6f3d",
       "version_major": 2,
       "version_minor": 0
      },
      "text/plain": [
       "  0%|          | 0/4454 [00:00<?, ?it/s]"
      ]
     },
     "metadata": {},
     "output_type": "display_data"
    },
    {
     "data": {
      "application/vnd.jupyter.widget-view+json": {
       "model_id": "4c1c7f03471a44fc9312a0f377960381",
       "version_major": 2,
       "version_minor": 0
      },
      "text/plain": [
       "  0%|          | 0/4636 [00:00<?, ?it/s]"
      ]
     },
     "metadata": {},
     "output_type": "display_data"
    },
    {
     "data": {
      "application/vnd.jupyter.widget-view+json": {
       "model_id": "3d25c2c3b3364368ae8d8d8b263b95c2",
       "version_major": 2,
       "version_minor": 0
      },
      "text/plain": [
       "  0%|          | 0/4736 [00:00<?, ?it/s]"
      ]
     },
     "metadata": {},
     "output_type": "display_data"
    },
    {
     "data": {
      "application/vnd.jupyter.widget-view+json": {
       "model_id": "e5b6131187044ae5bd986eb78f1176bb",
       "version_major": 2,
       "version_minor": 0
      },
      "text/plain": [
       "  0%|          | 0/4221 [00:00<?, ?it/s]"
      ]
     },
     "metadata": {},
     "output_type": "display_data"
    },
    {
     "data": {
      "application/vnd.jupyter.widget-view+json": {
       "model_id": "8962100665ea4fcd9ba1b341266d551f",
       "version_major": 2,
       "version_minor": 0
      },
      "text/plain": [
       "  0%|          | 0/3367 [00:00<?, ?it/s]"
      ]
     },
     "metadata": {},
     "output_type": "display_data"
    },
    {
     "data": {
      "application/vnd.jupyter.widget-view+json": {
       "model_id": "2b146971320c45729bb552aa173d32a8",
       "version_major": 2,
       "version_minor": 0
      },
      "text/plain": [
       "  0%|          | 0/1772 [00:00<?, ?it/s]"
      ]
     },
     "metadata": {},
     "output_type": "display_data"
    },
    {
     "data": {
      "application/vnd.jupyter.widget-view+json": {
       "model_id": "92b0f63280254089b1f262145bc019f5",
       "version_major": 2,
       "version_minor": 0
      },
      "text/plain": [
       "  0%|          | 0/1156 [00:00<?, ?it/s]"
      ]
     },
     "metadata": {},
     "output_type": "display_data"
    }
   ],
   "source": [
    "# add normalized metrics\n",
    "!mkdir ddists_complete_with_norms\n",
    "\n",
    "for i in tqdm(range(1, len(yearRange))):\n",
    "    prevYear = yearRange[i-1]\n",
    "    currYear = yearRange[i]\n",
    "    \n",
    "    prevWUMs = loadWUMs(prevYear)\n",
    "    currWUMs = loadWUMs(currYear)\n",
    "    \n",
    "    with open('ddists_complete/distances_' + str(prevYear) + '.pickle', 'rb') as f:\n",
    "        df = pickle.load(f)\n",
    "    \n",
    "    normed_prts = []\n",
    "    normed_divs = []\n",
    "    normed_apds = []\n",
    "    \n",
    "    for tok in tqdm(df['token']):\n",
    "        prevWUM = prevWUMs[tok]\n",
    "        currWUM = currWUMs[tok]\n",
    "        \n",
    "        normed_prts.append(nm.prt(prevWUM.u, currWUM.u))\n",
    "        normed_apds.append(nm.apd(prevWUM.u, currWUM.u, max_sample_size=128))\n",
    "        normed_divs.append(nm.div(prevWUM.u, currWUM.u))\n",
    "        \n",
    "    df['normed_prt'] = normed_prts\n",
    "    df['normed_div'] = normed_divs\n",
    "    df['normed_apd'] = normed_apds\n",
    "    \n",
    "    with open('ddists_complete_with_norms/distances_' + str(prevYear) + '.pickle', 'wb') as f:\n",
    "        pickle.dump(df, f, protocol=pickle.HIGHEST_PROTOCOL)"
   ]
  },
  {
   "cell_type": "code",
   "execution_count": null,
   "id": "0605af6e-fea9-4617-93ec-90efa99f1135",
   "metadata": {},
   "outputs": [],
   "source": []
  }
 ],
 "metadata": {
  "kernelspec": {
   "display_name": "Python 3",
   "language": "python",
   "name": "python3"
  },
  "language_info": {
   "codemirror_mode": {
    "name": "ipython",
    "version": 3
   },
   "file_extension": ".py",
   "mimetype": "text/x-python",
   "name": "python",
   "nbconvert_exporter": "python",
   "pygments_lexer": "ipython3",
   "version": "3.8.8"
  }
 },
 "nbformat": 4,
 "nbformat_minor": 5
}
